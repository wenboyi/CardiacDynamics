{
 "cells": [
  {
   "cell_type": "code",
   "execution_count": 3,
   "id": "c5483ed5",
   "metadata": {},
   "outputs": [],
   "source": [
    "import pandas as pd\n",
    "import matplotlib.pyplot as plt\n",
    "import numpy as np\n",
    "import pingouin as pg\n",
    "import scipy\n",
    "from scipy import stats\n",
    "import statistics"
   ]
  },
  {
   "cell_type": "code",
   "execution_count": 4,
   "id": "c3dd8869",
   "metadata": {},
   "outputs": [
    {
     "data": {
      "text/html": [
       "<div>\n",
       "<style scoped>\n",
       "    .dataframe tbody tr th:only-of-type {\n",
       "        vertical-align: middle;\n",
       "    }\n",
       "\n",
       "    .dataframe tbody tr th {\n",
       "        vertical-align: top;\n",
       "    }\n",
       "\n",
       "    .dataframe thead th {\n",
       "        text-align: right;\n",
       "    }\n",
       "</style>\n",
       "<table border=\"1\" class=\"dataframe\">\n",
       "  <thead>\n",
       "    <tr style=\"text-align: right;\">\n",
       "      <th></th>\n",
       "      <th>Size</th>\n",
       "      <th>%REC</th>\n",
       "      <th>%DET</th>\n",
       "      <th>MeanL</th>\n",
       "      <th>MaxL</th>\n",
       "      <th>EntrL</th>\n",
       "      <th>%LAM</th>\n",
       "      <th>MeanV</th>\n",
       "      <th>MaxV</th>\n",
       "      <th>EntrV</th>\n",
       "      <th>Label</th>\n",
       "      <th>Group</th>\n",
       "    </tr>\n",
       "  </thead>\n",
       "  <tbody>\n",
       "    <tr>\n",
       "      <th>0</th>\n",
       "      <td>32</td>\n",
       "      <td>12.304688</td>\n",
       "      <td>96.825397</td>\n",
       "      <td>7.625000</td>\n",
       "      <td>31</td>\n",
       "      <td>2.250000</td>\n",
       "      <td>100.000000</td>\n",
       "      <td>4.937500</td>\n",
       "      <td>7</td>\n",
       "      <td>1.940928</td>\n",
       "      <td>Moving baseline</td>\n",
       "      <td>Invalid</td>\n",
       "    </tr>\n",
       "    <tr>\n",
       "      <th>1</th>\n",
       "      <td>260</td>\n",
       "      <td>5.500000</td>\n",
       "      <td>94.513179</td>\n",
       "      <td>10.458333</td>\n",
       "      <td>258</td>\n",
       "      <td>2.980373</td>\n",
       "      <td>97.536450</td>\n",
       "      <td>9.349398</td>\n",
       "      <td>26</td>\n",
       "      <td>3.992039</td>\n",
       "      <td>Blind</td>\n",
       "      <td>Visual</td>\n",
       "    </tr>\n",
       "    <tr>\n",
       "      <th>2</th>\n",
       "      <td>250</td>\n",
       "      <td>9.052800</td>\n",
       "      <td>96.076352</td>\n",
       "      <td>11.139344</td>\n",
       "      <td>248</td>\n",
       "      <td>3.432577</td>\n",
       "      <td>98.019634</td>\n",
       "      <td>11.989648</td>\n",
       "      <td>60</td>\n",
       "      <td>4.600485</td>\n",
       "      <td>Score-directed</td>\n",
       "      <td>Invalid</td>\n",
       "    </tr>\n",
       "    <tr>\n",
       "      <th>3</th>\n",
       "      <td>248</td>\n",
       "      <td>9.332726</td>\n",
       "      <td>96.202091</td>\n",
       "      <td>9.234114</td>\n",
       "      <td>247</td>\n",
       "      <td>3.094094</td>\n",
       "      <td>97.578490</td>\n",
       "      <td>11.087287</td>\n",
       "      <td>43</td>\n",
       "      <td>4.460128</td>\n",
       "      <td>Normal</td>\n",
       "      <td>Normal</td>\n",
       "    </tr>\n",
       "    <tr>\n",
       "      <th>4</th>\n",
       "      <td>244</td>\n",
       "      <td>4.763504</td>\n",
       "      <td>96.191819</td>\n",
       "      <td>12.867925</td>\n",
       "      <td>242</td>\n",
       "      <td>2.991878</td>\n",
       "      <td>98.311688</td>\n",
       "      <td>10.737589</td>\n",
       "      <td>21</td>\n",
       "      <td>3.717873</td>\n",
       "      <td>Violin-isolated</td>\n",
       "      <td>Visual</td>\n",
       "    </tr>\n",
       "    <tr>\n",
       "      <th>5</th>\n",
       "      <td>242</td>\n",
       "      <td>8.223482</td>\n",
       "      <td>97.508306</td>\n",
       "      <td>11.858586</td>\n",
       "      <td>240</td>\n",
       "      <td>3.614778</td>\n",
       "      <td>98.793990</td>\n",
       "      <td>12.523810</td>\n",
       "      <td>62</td>\n",
       "      <td>4.376599</td>\n",
       "      <td>Noraml_R</td>\n",
       "      <td>Normal</td>\n",
       "    </tr>\n",
       "    <tr>\n",
       "      <th>6</th>\n",
       "      <td>496</td>\n",
       "      <td>3.193288</td>\n",
       "      <td>93.253564</td>\n",
       "      <td>8.440092</td>\n",
       "      <td>494</td>\n",
       "      <td>3.053515</td>\n",
       "      <td>96.527778</td>\n",
       "      <td>7.555764</td>\n",
       "      <td>57</td>\n",
       "      <td>3.769625</td>\n",
       "      <td>Sight-reading</td>\n",
       "      <td>Invalid</td>\n",
       "    </tr>\n",
       "    <tr>\n",
       "      <th>7</th>\n",
       "      <td>232</td>\n",
       "      <td>8.613258</td>\n",
       "      <td>97.540984</td>\n",
       "      <td>12.491713</td>\n",
       "      <td>230</td>\n",
       "      <td>3.426816</td>\n",
       "      <td>98.870173</td>\n",
       "      <td>13.295580</td>\n",
       "      <td>37</td>\n",
       "      <td>4.724109</td>\n",
       "      <td>Concert</td>\n",
       "      <td>Normal</td>\n",
       "    </tr>\n",
       "    <tr>\n",
       "      <th>9</th>\n",
       "      <td>316</td>\n",
       "      <td>4.722801</td>\n",
       "      <td>87.913486</td>\n",
       "      <td>4.971223</td>\n",
       "      <td>315</td>\n",
       "      <td>2.398808</td>\n",
       "      <td>93.958665</td>\n",
       "      <td>5.710145</td>\n",
       "      <td>48</td>\n",
       "      <td>3.410070</td>\n",
       "      <td>Quiet Baseline</td>\n",
       "      <td>Invalid</td>\n",
       "    </tr>\n",
       "  </tbody>\n",
       "</table>\n",
       "</div>"
      ],
      "text/plain": [
       "   Size       %REC       %DET      MeanL  MaxL     EntrL        %LAM  \\\n",
       "0    32  12.304688  96.825397   7.625000    31  2.250000  100.000000   \n",
       "1   260   5.500000  94.513179  10.458333   258  2.980373   97.536450   \n",
       "2   250   9.052800  96.076352  11.139344   248  3.432577   98.019634   \n",
       "3   248   9.332726  96.202091   9.234114   247  3.094094   97.578490   \n",
       "4   244   4.763504  96.191819  12.867925   242  2.991878   98.311688   \n",
       "5   242   8.223482  97.508306  11.858586   240  3.614778   98.793990   \n",
       "6   496   3.193288  93.253564   8.440092   494  3.053515   96.527778   \n",
       "7   232   8.613258  97.540984  12.491713   230  3.426816   98.870173   \n",
       "9   316   4.722801  87.913486   4.971223   315  2.398808   93.958665   \n",
       "\n",
       "       MeanV  MaxV     EntrV            Label    Group  \n",
       "0   4.937500     7  1.940928  Moving baseline  Invalid  \n",
       "1   9.349398    26  3.992039            Blind   Visual  \n",
       "2  11.989648    60  4.600485   Score-directed  Invalid  \n",
       "3  11.087287    43  4.460128           Normal   Normal  \n",
       "4  10.737589    21  3.717873  Violin-isolated   Visual  \n",
       "5  12.523810    62  4.376599         Noraml_R   Normal  \n",
       "6   7.555764    57  3.769625    Sight-reading  Invalid  \n",
       "7  13.295580    37  4.724109          Concert   Normal  \n",
       "9   5.710145    48  3.410070   Quiet Baseline  Invalid  "
      ]
     },
     "execution_count": 4,
     "metadata": {},
     "output_type": "execute_result"
    }
   ],
   "source": [
    "df = pd.read_csv('/Users/wenboyi/Desktop/HR/RR/mdRQA Joint Script/testtable_new_0.61_6_8.csv')\n",
    "df = df.rename(columns={'1': 'Size','2':'%REC','3':'%DET','4':'MeanL','5':'MaxL','6':'EntrL','7':'%LAM','8':'MeanV','9':'MaxV','10':'EntrV'})\n",
    "df = df.drop(['Unnamed: 10'],axis=1)\n",
    "label = ['Moving baseline','Blind','Score-directed','Normal','Violin-isolated','Noraml_R','Sight-reading','Concert','Bach','Quiet Baseline','Haydn_last']\n",
    "group = ['Invalid','Visual','Invalid','Normal','Visual','Normal','Invalid','Normal','Invalid','Invalid','Invalid']\n",
    "df['Label'] = label\n",
    "df['Group'] = group\n",
    "df = df.drop(df[df['Label']=='Bach'].index)\n",
    "df = df.drop(df[df['Label']=='Haydn_last'].index)\n",
    "df"
   ]
  },
  {
   "cell_type": "markdown",
   "id": "1f542f20",
   "metadata": {},
   "source": [
    "9Quiet baseline \n",
    "- no body motion, eyes fixed on the center of the music score\n",
    "\n",
    "0Moving baseline\n",
    "- quartet played a slow scale while their eyes were fixed on the music score\n",
    "\n",
    "1Blind \n",
    "- quartet played the Haydn excerpt while facing away from each other so that they couldn’t see each other at all\n",
    "\n",
    "2Score-directed\n",
    "- quartet played the Haydn excerpt while facing each other normally, but were only allowed to look at the score\n",
    "\n",
    "3Normal-rehearsal\n",
    "- quartet played the Haydn excerpt while facing each other normally & looking wherever they wanted\n",
    "\n",
    "4Violin-isolated\n",
    "- quartet played the Haydn excerpt while the 1st violinist was hidden behind a curtain; the others were allowed to look at each other normally\n",
    "\n",
    "5Repetition-rehearsal\n",
    "- same as Normal-rehearsal\n",
    "\n",
    "6Sight-reading (prima vista)\n",
    "- quartet played Langgaard’s String Quartet No. 5, 2nd movement, which they had never played or heard before\n",
    "\n",
    "7Mini-concert (Haydn) (14:50), 17:08 = 2min 18s\n",
    "- quartet played the full first movement of the Haydn for an audience of about 30 researchers; they were configured normally and allowed to look wherever they wanted\n",
    "\n",
    "8Mini-concert (Bach)\n",
    "- quartet played the Bach Contrapunctus for the same audience as above, again with normal visual conditions\n"
   ]
  },
  {
   "cell_type": "code",
   "execution_count": 6,
   "id": "68afb435",
   "metadata": {},
   "outputs": [
    {
     "name": "stdout",
     "output_type": "stream",
     "text": [
      "['Quiet Baseline', 'Sight-reading', 'Blind', 'Score-directed', 'Violin-isolated', 'Normal', 'Moving baseline', 'Noraml_R', 'Concert'] [87.9134860050891, 93.2535641547861, 94.5131791285637, 96.0763520678685, 96.1918194640339, 96.2020905923345, 96.8253968253968, 97.5083056478405, 97.5409836065574]\n"
     ]
    },
    {
     "data": {
      "image/png": "[encoded data removed]",
      "text/plain": [
       "<Figure size 1008x360 with 1 Axes>"
      ]
     },
     "metadata": {
      "needs_background": "light"
     },
     "output_type": "display_data"
    }
   ],
   "source": [
    "df = df.sort_values(by=\"%DET\" , ascending=True) \n",
    "print(list(df['Label']),list(df['%DET']))\n",
    "plt.figure(figsize=(14, 5))\n",
    "plt.title(\"DSQ %DET\")\n",
    "plt.xlabel('Condition')\n",
    "plt.ylabel('%DET')\n",
    "plt.bar(df['Label'],df['%DET'])\n",
    "plt.savefig('D DET.png')\n",
    "plt.show()\n"
   ]
  },
  {
   "cell_type": "code",
   "execution_count": 8,
   "id": "6c2129ba",
   "metadata": {},
   "outputs": [
    {
     "data": {
      "image/png": "[encoded data removed]",
      "text/plain": [
       "<Figure size 1008x360 with 1 Axes>"
      ]
     },
     "metadata": {
      "needs_background": "light"
     },
     "output_type": "display_data"
    }
   ],
   "source": [
    "df = df.sort_values(by=\"%LAM\" , ascending=True) \n",
    "plt.figure(figsize=(14, 5))\n",
    "plt.title(\"DSQ %LAM\")\n",
    "plt.xlabel('Condition')\n",
    "plt.ylabel('LAM%')\n",
    "plt.bar(df['Label'],df['%LAM'])\n",
    "plt.savefig('D LAM.png')\n",
    "plt.show()\n"
   ]
  },
  {
   "cell_type": "code",
   "execution_count": 5,
   "id": "9f945cdf",
   "metadata": {},
   "outputs": [
    {
     "data": {
      "image/png": "[encoded data removed]",
      "text/plain": [
       "<Figure size 1008x360 with 1 Axes>"
      ]
     },
     "metadata": {
      "needs_background": "light"
     },
     "output_type": "display_data"
    }
   ],
   "source": [
    "df = df.sort_values(by=\"MeanV\" , ascending=True) \n",
    "plt.figure(figsize=(14, 5))\n",
    "plt.title(\"DSQ MeanL\")\n",
    "plt.xlabel('Condition')\n",
    "plt.ylabel('MeanV')\n",
    "plt.bar(df['Label'],df['MeanV'])\n",
    "plt.show()"
   ]
  },
  {
   "cell_type": "code",
   "execution_count": 10,
   "id": "b71210e9",
   "metadata": {},
   "outputs": [
    {
     "name": "stdout",
     "output_type": "stream",
     "text": [
      "[96.2020905923345, 97.5083056478405, 97.5409836065574]\n"
     ]
    },
    {
     "data": {
      "text/plain": [
       "Ttest_1sampResult(statistic=-2.0627336891203534, pvalue=0.28737565068979576)"
      ]
     },
     "execution_count": 10,
     "metadata": {},
     "output_type": "execute_result"
    }
   ],
   "source": [
    "a = df[df['Group']=='Visual']\n",
    "a = list(a['%DET'])\n",
    "b = df[df['Group']=='Normal']\n",
    "print(list(b['%DET']))\n",
    "b = statistics.mean(list(b['%DET']))\n",
    "stats.ttest_1samp(a, b)"
   ]
  },
  {
   "cell_type": "code",
   "execution_count": 9,
   "id": "f603dcc5",
   "metadata": {},
   "outputs": [
    {
     "name": "stdout",
     "output_type": "stream",
     "text": [
      "[94.5131791285637, 96.1918194640339]\n",
      "[96.2020905923345, 97.5083056478405, 97.5409836065574]\n"
     ]
    },
    {
     "data": {
      "text/plain": [
       "Ttest_indResult(statistic=-2.0468549748182525, pvalue=0.13316585361023517)"
      ]
     },
     "execution_count": 9,
     "metadata": {},
     "output_type": "execute_result"
    }
   ],
   "source": [
    "a = df[df['Group']=='Visual']\n",
    "a = list(a['%DET'])\n",
    "b = df[df['Group']=='Normal']\n",
    "b = list(b['%DET'])\n",
    "print(a)\n",
    "print(b)\n",
    "\n",
    "stats.ttest_ind(a, b)"
   ]
  }
 ],
 "metadata": {
  "kernelspec": {
   "display_name": "Python 3 (ipykernel)",
   "language": "python",
   "name": "python3"
  },
  "language_info": {
   "codemirror_mode": {
    "name": "ipython",
    "version": 3
   },
   "file_extension": ".py",
   "mimetype": "text/x-python",
   "name": "python",
   "nbconvert_exporter": "python",
   "pygments_lexer": "ipython3",
   "version": "3.8.12"
  }
 },
 "nbformat": 4,
 "nbformat_minor": 5
}
