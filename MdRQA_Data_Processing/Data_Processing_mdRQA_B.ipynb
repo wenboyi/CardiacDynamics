{
 "cells": [
  {
   "cell_type": "code",
   "execution_count": 1,
   "id": "c5483ed5",
   "metadata": {},
   "outputs": [
    {
     "name": "stderr",
     "output_type": "stream",
     "text": [
      "/opt/anaconda3/lib/python3.8/site-packages/outdated/utils.py:14: OutdatedPackageWarning: The package pingouin is out of date. Your version is 0.5.0, the latest is 0.5.1.\n",
      "Set the environment variable OUTDATED_IGNORE=1 to disable these warnings.\n",
      "  return warn(\n"
     ]
    }
   ],
   "source": [
    "import pandas as pd\n",
    "import matplotlib.pyplot as plt\n",
    "import numpy as np\n",
    "import pingouin as pg\n",
    "import scipy\n",
    "from scipy import stats\n",
    "import statistics"
   ]
  },
  {
   "cell_type": "code",
   "execution_count": 2,
   "id": "c3dd8869",
   "metadata": {},
   "outputs": [
    {
     "data": {
      "text/html": [
       "<div>\n",
       "<style scoped>\n",
       "    .dataframe tbody tr th:only-of-type {\n",
       "        vertical-align: middle;\n",
       "    }\n",
       "\n",
       "    .dataframe tbody tr th {\n",
       "        vertical-align: top;\n",
       "    }\n",
       "\n",
       "    .dataframe thead th {\n",
       "        text-align: right;\n",
       "    }\n",
       "</style>\n",
       "<table border=\"1\" class=\"dataframe\">\n",
       "  <thead>\n",
       "    <tr style=\"text-align: right;\">\n",
       "      <th></th>\n",
       "      <th>Size</th>\n",
       "      <th>%REC</th>\n",
       "      <th>%DET</th>\n",
       "      <th>MeanL</th>\n",
       "      <th>MaxL</th>\n",
       "      <th>EntrL</th>\n",
       "      <th>%LAM</th>\n",
       "      <th>MeanV</th>\n",
       "      <th>MaxV</th>\n",
       "      <th>EntrV</th>\n",
       "      <th>Label</th>\n",
       "    </tr>\n",
       "  </thead>\n",
       "  <tbody>\n",
       "    <tr>\n",
       "      <th>0</th>\n",
       "      <td>211</td>\n",
       "      <td>3.517441</td>\n",
       "      <td>62.196679</td>\n",
       "      <td>3.689394</td>\n",
       "      <td>49</td>\n",
       "      <td>2.049132</td>\n",
       "      <td>77.152504</td>\n",
       "      <td>4.008772</td>\n",
       "      <td>17</td>\n",
       "      <td>2.571185</td>\n",
       "      <td>Blind</td>\n",
       "    </tr>\n",
       "    <tr>\n",
       "      <th>1</th>\n",
       "      <td>249</td>\n",
       "      <td>6.212803</td>\n",
       "      <td>72.689512</td>\n",
       "      <td>3.365385</td>\n",
       "      <td>31</td>\n",
       "      <td>2.155918</td>\n",
       "      <td>85.052426</td>\n",
       "      <td>4.316832</td>\n",
       "      <td>20</td>\n",
       "      <td>2.858013</td>\n",
       "      <td>Score-directed</td>\n",
       "    </tr>\n",
       "    <tr>\n",
       "      <th>2</th>\n",
       "      <td>229</td>\n",
       "      <td>5.892336</td>\n",
       "      <td>73.203883</td>\n",
       "      <td>4.127737</td>\n",
       "      <td>33</td>\n",
       "      <td>2.548051</td>\n",
       "      <td>84.664055</td>\n",
       "      <td>4.886957</td>\n",
       "      <td>29</td>\n",
       "      <td>3.055152</td>\n",
       "      <td>Normal</td>\n",
       "    </tr>\n",
       "    <tr>\n",
       "      <th>3</th>\n",
       "      <td>237</td>\n",
       "      <td>5.608076</td>\n",
       "      <td>68.063492</td>\n",
       "      <td>3.238671</td>\n",
       "      <td>31</td>\n",
       "      <td>2.056596</td>\n",
       "      <td>82.285208</td>\n",
       "      <td>3.964438</td>\n",
       "      <td>14</td>\n",
       "      <td>2.636126</td>\n",
       "      <td>Violin-isolated</td>\n",
       "    </tr>\n",
       "    <tr>\n",
       "      <th>4</th>\n",
       "      <td>243</td>\n",
       "      <td>7.034835</td>\n",
       "      <td>82.089552</td>\n",
       "      <td>4.148418</td>\n",
       "      <td>51</td>\n",
       "      <td>2.597104</td>\n",
       "      <td>91.107573</td>\n",
       "      <td>5.369973</td>\n",
       "      <td>24</td>\n",
       "      <td>3.218672</td>\n",
       "      <td>Normal_R</td>\n",
       "    </tr>\n",
       "    <tr>\n",
       "      <th>5</th>\n",
       "      <td>284</td>\n",
       "      <td>6.501686</td>\n",
       "      <td>77.307399</td>\n",
       "      <td>3.658845</td>\n",
       "      <td>48</td>\n",
       "      <td>2.354651</td>\n",
       "      <td>85.890014</td>\n",
       "      <td>4.687068</td>\n",
       "      <td>23</td>\n",
       "      <td>3.027527</td>\n",
       "      <td>Concert</td>\n",
       "    </tr>\n",
       "    <tr>\n",
       "      <th>7</th>\n",
       "      <td>69</td>\n",
       "      <td>1.344255</td>\n",
       "      <td>43.750000</td>\n",
       "      <td>2.333333</td>\n",
       "      <td>3</td>\n",
       "      <td>0.918296</td>\n",
       "      <td>72.932331</td>\n",
       "      <td>2.425000</td>\n",
       "      <td>4</td>\n",
       "      <td>1.121906</td>\n",
       "      <td>Quiet Baseline</td>\n",
       "    </tr>\n",
       "  </tbody>\n",
       "</table>\n",
       "</div>"
      ],
      "text/plain": [
       "   Size      %REC       %DET     MeanL  MaxL     EntrL       %LAM     MeanV  \\\n",
       "0   211  3.517441  62.196679  3.689394    49  2.049132  77.152504  4.008772   \n",
       "1   249  6.212803  72.689512  3.365385    31  2.155918  85.052426  4.316832   \n",
       "2   229  5.892336  73.203883  4.127737    33  2.548051  84.664055  4.886957   \n",
       "3   237  5.608076  68.063492  3.238671    31  2.056596  82.285208  3.964438   \n",
       "4   243  7.034835  82.089552  4.148418    51  2.597104  91.107573  5.369973   \n",
       "5   284  6.501686  77.307399  3.658845    48  2.354651  85.890014  4.687068   \n",
       "7    69  1.344255  43.750000  2.333333     3  0.918296  72.932331  2.425000   \n",
       "\n",
       "   MaxV     EntrV            Label  \n",
       "0    17  2.571185            Blind  \n",
       "1    20  2.858013   Score-directed  \n",
       "2    29  3.055152           Normal  \n",
       "3    14  2.636126  Violin-isolated  \n",
       "4    24  3.218672         Normal_R  \n",
       "5    23  3.027527          Concert  \n",
       "7     4  1.121906   Quiet Baseline  "
      ]
     },
     "execution_count": 2,
     "metadata": {},
     "output_type": "execute_result"
    }
   ],
   "source": [
    "df = pd.read_csv('/Users/wenboyi/Desktop/HR/RR/mdRQA Joint Script/newtesttableB_0.41_2_5.csv')\n",
    "df = df.rename(columns={'1': 'Size','2':'%REC','3':'%DET','4':'MeanL','5':'MaxL','6':'EntrL','7':'%LAM','8':'MeanV','9':'MaxV','10':'EntrV'})\n",
    "df = df.drop(['Unnamed: 10'],axis=1)\n",
    "label = ['Blind','Score-directed','Normal','Violin-isolated','Normal_R','Concert','Haydn_end','Quiet Baseline']\n",
    "#group = ['Visual','Invalid','Normal','Visual','Normal','Normal','Invalid','Invalid']\n",
    "df['Label']=label\n",
    "df = df.drop(df[df['Label']=='Haydn_end'].index)\n",
    "df"
   ]
  },
  {
   "cell_type": "code",
   "execution_count": 3,
   "id": "31eec0ab",
   "metadata": {},
   "outputs": [
    {
     "data": {
      "image/png": "[encoded data removed]",
      "text/plain": [
       "<Figure size 1008x360 with 1 Axes>"
      ]
     },
     "metadata": {
      "needs_background": "light"
     },
     "output_type": "display_data"
    },
    {
     "name": "stdout",
     "output_type": "stream",
     "text": [
      "['Quiet Baseline', 'Blind', 'Violin-isolated', 'Score-directed', 'Normal', 'Concert', 'Normal_R'] [43.75, 62.1966794380588, 68.0634920634921, 72.6895119418484, 73.2038834951456, 77.3073989321129, 82.089552238806]\n"
     ]
    }
   ],
   "source": [
    "df = df.sort_values(by=\"%DET\" , ascending=True) \n",
    "plt.figure(figsize=(14, 5))\n",
    "plt.title(\"Borealis %DET\")\n",
    "plt.xlabel('Conditions')\n",
    "plt.ylabel('%DET')\n",
    "plt.bar(df['Label'],df['%DET'])\n",
    "plt.savefig('B.png')\n",
    "plt.show()\n",
    "print(list(df['Label']),list(df['%DET']))\n"
   ]
  },
  {
   "cell_type": "code",
   "execution_count": 4,
   "id": "32671111",
   "metadata": {},
   "outputs": [
    {
     "data": {
      "image/png": "[encoded data removed]",
      "text/plain": [
       "<Figure size 1008x360 with 1 Axes>"
      ]
     },
     "metadata": {
      "needs_background": "light"
     },
     "output_type": "display_data"
    }
   ],
   "source": [
    "df = df.sort_values(by=\"%LAM\" , ascending=True) \n",
    "plt.figure(figsize=(14, 5))\n",
    "plt.title(\"Borealis %LAM\")\n",
    "plt.xlabel('Condition')\n",
    "plt.ylabel('LAM%')\n",
    "plt.bar(df['Label'],df['%LAM'])\n",
    "plt.savefig('B LAM.png')\n",
    "plt.show()\n"
   ]
  },
  {
   "cell_type": "code",
   "execution_count": 5,
   "id": "31ced050",
   "metadata": {},
   "outputs": [
    {
     "data": {
      "image/png": "[encoded data removed]",
      "text/plain": [
       "<Figure size 1008x360 with 1 Axes>"
      ]
     },
     "metadata": {
      "needs_background": "light"
     },
     "output_type": "display_data"
    }
   ],
   "source": [
    "df = df.sort_values(by=\"%REC\" , ascending=True) \n",
    "plt.figure(figsize=(14, 5))\n",
    "plt.title(\"Borealis %REC\")\n",
    "plt.xlabel('Condition')\n",
    "plt.ylabel('REC%')\n",
    "plt.bar(df['Label'],df['%REC'])\n",
    "plt.show()"
   ]
  },
  {
   "cell_type": "code",
   "execution_count": 6,
   "id": "e2e2dbaf",
   "metadata": {},
   "outputs": [
    {
     "name": "stdout",
     "output_type": "stream",
     "text": [
      "[73.2038834951456, 77.3073989321129, 82.089552238806]\n",
      "[62.1966794380588, 68.0634920634921]\n",
      "77.53361155535484\n"
     ]
    },
    {
     "data": {
      "text/plain": [
       "Ttest_1sampResult(statistic=-4.2283695070841985, pvalue=0.14784276983698075)"
      ]
     },
     "execution_count": 6,
     "metadata": {},
     "output_type": "execute_result"
    }
   ],
   "source": [
    "a = df[df['Group']=='Visual']\n",
    "a = list(a['%DET'])\n",
    "b = df[df['Group']=='Normal']\n",
    "print(list(b['%DET']))\n",
    "b = statistics.mean(list(b['%DET']))\n",
    "print(a)\n",
    "print(b)\n",
    "stats.ttest_1samp(a, b)"
   ]
  },
  {
   "cell_type": "code",
   "execution_count": 7,
   "id": "822b321b",
   "metadata": {},
   "outputs": [
    {
     "name": "stdout",
     "output_type": "stream",
     "text": [
      "[62.1966794380588, 68.0634920634921]\n",
      "[73.2038834951456, 77.3073989321129, 82.089552238806]\n"
     ]
    },
    {
     "data": {
      "text/plain": [
       "Ttest_indResult(statistic=-3.1236307362370552, pvalue=0.05232367134650197)"
      ]
     },
     "execution_count": 7,
     "metadata": {},
     "output_type": "execute_result"
    },
    {
     "name": "stderr",
     "output_type": "stream",
     "text": [
      "/opt/anaconda3/lib/python3.8/site-packages/outdated/utils.py:14: OutdatedPackageWarning: The package pingouin is out of date. Your version is 0.5.0, the latest is 0.5.1.\n",
      "Set the environment variable OUTDATED_IGNORE=1 to disable these warnings.\n",
      "  return warn(\n"
     ]
    }
   ],
   "source": [
    "a = df[df['Group']=='Visual']\n",
    "a = list(a['%DET'])\n",
    "print(a)\n",
    "b = df[df['Group']=='Normal']\n",
    "b = list(b['%DET'])\n",
    "print(b)\n",
    "stats.ttest_ind(a, b)"
   ]
  },
  {
   "cell_type": "code",
   "execution_count": null,
   "id": "30fcc996",
   "metadata": {},
   "outputs": [],
   "source": []
  }
 ],
 "metadata": {
  "kernelspec": {
   "display_name": "Python 3 (ipykernel)",
   "language": "python",
   "name": "python3"
  },
  "language_info": {
   "codemirror_mode": {
    "name": "ipython",
    "version": 3
   },
   "file_extension": ".py",
   "mimetype": "text/x-python",
   "name": "python",
   "nbconvert_exporter": "python",
   "pygments_lexer": "ipython3",
   "version": "3.8.12"
  }
 },
 "nbformat": 4,
 "nbformat_minor": 5
}
